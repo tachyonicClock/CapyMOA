{
 "cells": [
  {
   "cell_type": "code",
   "execution_count": null,
   "metadata": {},
   "outputs": [],
   "source": []
  },
  {
   "cell_type": "code",
   "execution_count": 144,
   "metadata": {},
   "outputs": [],
   "source": [
    "from typing import List, Dict, Any, Tuple, Union\n",
    "from typing import Type as TypeAlias\n",
    "\n",
    "\n",
    "class Learner():\n",
    "\n",
    "    def __init__(self, schema, **kwargs):\n",
    "        pass\n",
    "\n",
    "\n",
    "    def _update_schema(self, new_schema):\n",
    "        pass\n",
    "\n",
    "    def set_schema(self, schema):\n",
    "        pass\n",
    "\n",
    "    def set_hyper_params(self, hyper_params: Dict[str, Any]):\n",
    "        \"\"\"Set hyper parameters for the learner and sub-learners.\n",
    "\n",
    "        :param hyper_params: A dictionary of hyper parameters.\n",
    "        \"\"\"\n",
    "\n",
    "    def get_hyper_params(self) -> Dict[str, Any]:\n",
    "        pass\n",
    "\n"
   ]
  },
  {
   "cell_type": "code",
   "execution_count": 145,
   "metadata": {},
   "outputs": [],
   "source": [
    "from sklearn.linear_model import LogisticRegression\n",
    "\n",
    "model = LogisticRegression()"
   ]
  },
  {
   "cell_type": "code",
   "execution_count": 146,
   "metadata": {},
   "outputs": [],
   "source": [
    "\n",
    "# from sklearn.naive_bayes import GaussianNB\n",
    "# from sklearn.datasets import load_iris\n",
    "\n",
    "\n",
    "# iris = load_iris()\n",
    "# # The constructor is responsible for setting the `hyper_parameters`\n",
    "# model = GaussianNB(priors=\"asdas\")\n",
    "# print(model.get_params())\n",
    "\n",
    "# print(getattr(model, \"var_\", None))\n",
    "# # Durring fit the schma/shape is infered from the data and the \n",
    "# # `model_state` is learnt\n",
    "# model.partial_fit(iris.data, iris.target, classes=[0, 1, 2])\n",
    "\n",
    "\n",
    "# # sklearn stores its `model_state` in parameters with trailing `_` by convention\n",
    "# print(getattr(model, \"var_\", None))\n",
    "# # None \n",
    "# # [[0.121764 0.140816 0.029556 0.010884]\n",
    "# #  [0.261104 0.0965 0.2164 0.038324] \n",
    "# #  [0.396256 0.101924 0.298496 0.073924]]\n",
    "\n",
    "# model.set_params\n"
   ]
  },
  {
   "cell_type": "code",
   "execution_count": 154,
   "metadata": {},
   "outputs": [],
   "source": [
    "from abc import ABC, abstractmethod\n",
    "from typing import Sequence, Optional, Union\n",
    "import numpy as np\n",
    "from dataclasses import dataclass\n",
    "\n",
    "\n",
    "@dataclass\n",
    "class Schema():\n",
    "    x_shape: Sequence[int]\n",
    "    y_shape: Sequence[int]\n",
    "    num_classes: int        \n",
    "\n",
    "class Instance():\n",
    "    def __init__(self, x: np.ndarray, y: int, schema: Schema):\n",
    "        self.x = x\n",
    "        self.y = y\n",
    "        self.schema = schema\n",
    "\n",
    "class Classifier(ABC):\n",
    "\n",
    "    @abstractmethod\n",
    "    def train(self, instance: Instance) -> None:\n",
    "        pass\n",
    "\n",
    "    @abstractmethod\n",
    "    def predict(self, instance: Instance) -> Union[int, None]:\n",
    "        pass\n",
    "\n",
    "    @abstractmethod\n",
    "    def predict_proba(self, instance: Instance) -> Union[np.ndarray, None]:\n",
    "        pass\n",
    "\n",
    "\n",
    "class HyperParameters(ABC):\n",
    "    @abstractmethod\n",
    "    def set_hyper_params(self, **kwargs) -> None:\n",
    "        pass\n",
    "\n",
    "    @abstractmethod\n",
    "    def get_hyper_params(self) -> dict:\n",
    "        pass\n",
    "\n",
    "\n",
    "class UnsupportedSchemaChange(RuntimeError):\n",
    "    pass\n",
    "\n",
    "class UnsupportedSchema(RuntimeError):\n",
    "    pass\n",
    "\n",
    "\n",
    "class CommonClassifier(Classifier):\n",
    "    _is_ready: bool = False\n",
    "    \"\"\"Has the model state been initialized and is the data's schema known?\"\"\"\n",
    "    _schema: Optional[Schema] = None\n",
    "    \"\"\"The schema of the data that the model has been trained on.\"\"\"\n",
    "\n",
    "    @property\n",
    "    def is_ready(self) -> bool:\n",
    "        return self._is_ready\n",
    "    \n",
    "    @property\n",
    "    def schema(self) -> Optional[Schema]:\n",
    "        return self._schema\n",
    "\n",
    "    @abstractmethod\n",
    "    def _predict(self, instance: Instance) -> Union[int, None]:\n",
    "        \"\"\"Like `predict` but the model state must be initialized.\"\"\"\n",
    "        pass\n",
    "\n",
    "    @abstractmethod\n",
    "    def _predict_proba(self, instance: Instance) -> Union[np.ndarray, None]:\n",
    "        \"\"\"Like `predict_proba` but the model state must be initialized.\"\"\"\n",
    "        pass\n",
    "\n",
    "    @abstractmethod\n",
    "    def _train(self, instance: Instance) -> None:\n",
    "        \"\"\"Like `train` but the model state must be initialized.\"\"\"\n",
    "        pass\n",
    "\n",
    "    @abstractmethod\n",
    "    def _initialize(self, new_schema: Schema) -> None:\n",
    "        \"\"\"Initialize the model state with the given schema\"\"\"\n",
    "        pass\n",
    "\n",
    "    def _on_schema_change(self, new_schema: Schema) -> None:\n",
    "        \"\"\"Handle the case where the schema of the data changes\"\"\"\n",
    "        raise UnsupportedSchemaChange(\"Learner does not support schema changes\")\n",
    "\n",
    "    def predict(self, instance: Instance) -> Union[int, None]:\n",
    "        if not self.is_ready:\n",
    "            return None\n",
    "        return self._predict(instance)\n",
    "    \n",
    "    def predict_proba(self, instance: Instance) -> Union[np.ndarray, None]:\n",
    "        if not self.is_ready:\n",
    "            return None\n",
    "        return self._predict_proba(instance)\n",
    "    \n",
    "    def train(self, instance: Instance) -> None:\n",
    "        if not self.is_ready:\n",
    "            self._initialize(instance.schema)\n",
    "            self._is_ready = True\n",
    "            self._schema = instance.schema\n",
    "        if self.schema != instance.schema:\n",
    "            self._on_schema_change(instance.schema)\n",
    "            self._schema = instance.schema\n",
    "        self._train(instance)"
   ]
  },
  {
   "cell_type": "code",
   "execution_count": 148,
   "metadata": {},
   "outputs": [],
   "source": [
    "from typing import Any\n",
    "from pydantic import BaseModel\n",
    "\n",
    "class PydanticHyperParameters(HyperParameters):\n",
    "    _Config: BaseModel\n",
    "\n",
    "    def set_hyper_params(self, **kwargs) -> None:\n",
    "        params = self.get_hyper_params()\n",
    "        params.update(kwargs)\n",
    "        self._Config.model_validate(params)\n",
    "        for attr_name, value in params.items():\n",
    "            setattr(self, attr_name, value)\n",
    "\n",
    "    def get_hyper_params(self) -> dict:\n",
    "        params = {}\n",
    "        for attr_name in self._Config.model_fields.keys():\n",
    "            params[attr_name] = getattr(self, attr_name)\n",
    "        return params\n",
    "    \n",
    "    def _validate_hyper_params(self) -> None:\n",
    "        self._Config.model_validate(self.get_hyper_params())\n"
   ]
  },
  {
   "cell_type": "code",
   "execution_count": 155,
   "metadata": {},
   "outputs": [],
   "source": [
    "from typing import Any, List, Literal\n",
    "\n",
    "\n",
    "class KNN(CommonClassifier, PydanticHyperParameters):\n",
    "\n",
    "    class _Config(BaseModel):\n",
    "        k: int\n",
    "\n",
    "    _data: List[Instance]\n",
    "\n",
    "    def __init__(self, *, k: int = 3):\n",
    "        self.k = k\n",
    "        self._validate_hyper_params()\n",
    "    \n",
    "    def _initialize(self, new_schema: Schema) -> None:\n",
    "        self._data = []\n",
    "\n",
    "    def _on_schema_change(self, new_schema: Schema) -> None:\n",
    "        self._data = []\n",
    "\n",
    "    def _train(self, instance: Instance) -> None:\n",
    "        self._data.append(instance)\n",
    "    \n",
    "    def _predict_proba(self, instance: Instance) -> Union[np.ndarray, None]:\n",
    "        distances = np.array([np.linalg.norm(instance.x - data.x) for data in self._data])\n",
    "        sorted_indices = np.argsort(distances)\n",
    "        k_indices = sorted_indices[:self.k]\n",
    "        k_labels = [self._data[i].y for i in k_indices]\n",
    "        return np.bincount(k_labels, minlength=self.schema.num_classes) / self.k\n",
    "    \n",
    "    def _predict(self, instance: Instance) -> Union[int, None]:\n",
    "        return np.argmax(self._predict_proba(instance))\n"
   ]
  },
  {
   "cell_type": "code",
   "execution_count": 156,
   "metadata": {},
   "outputs": [],
   "source": [
    "class KNN(CommonClassifier, HyperParameters):\n",
    "\n",
    "    def __init__(self, *, k: int = 3):\n",
    "        self.k = k\n",
    "    \n",
    "    def _initialize(self, new_schema: Schema) -> None:\n",
    "        self._data = []\n",
    "\n",
    "    def _on_schema_change(self, new_schema: Schema) -> None:\n",
    "        self._data = []\n",
    "\n",
    "    def _train(self, instance: Instance) -> None:\n",
    "        self._data.append(instance)\n",
    "    \n",
    "    def _predict_proba(self, instance: Instance) -> Union[np.ndarray, None]:\n",
    "        distances = np.array([np.linalg.norm(instance.x - data.x) for data in self._data])\n",
    "        sorted_indices = np.argsort(distances)\n",
    "        k_indices = sorted_indices[:self.k]\n",
    "        k_labels = [self._data[i].y for i in k_indices]\n",
    "        return np.bincount(k_labels, minlength=self.schema.num_classes) / self.k\n",
    "    \n",
    "    def _predict(self, instance: Instance) -> Union[int, None]:\n",
    "        return np.argmax(self._predict_proba(instance))\n",
    "    \n",
    "    def set_hyper_params(self, **kwargs) -> None:\n",
    "        for attr_name, value in kwargs.items():\n",
    "            setattr(self, attr_name, value)\n",
    "\n",
    "    def get_hyper_params(self) -> dict:\n",
    "        return {\"k\": self.k}\n",
    "    \n"
   ]
  },
  {
   "cell_type": "code",
   "execution_count": 158,
   "metadata": {},
   "outputs": [
    {
     "name": "stdout",
     "output_type": "stream",
     "text": [
      "[1. 0. 0.] 0\n"
     ]
    }
   ],
   "source": [
    "from sklearn.datasets import load_iris\n",
    "\n",
    "iris = load_iris()\n",
    "schema = Schema(x_shape=[4], y_shape=[3], num_classes=3)\n",
    "instances = [Instance(x, y, schema) for x, y in zip(iris.data, iris.target)]\n",
    "\n",
    "knn = KNN(k=10)\n",
    "# knn.k = \"hello\"\n",
    "\n",
    "for instance in instances:\n",
    "    knn.train(instance)\n",
    "\n",
    "print(knn.predict_proba(instances[1]), instances[1].y)"
   ]
  },
  {
   "cell_type": "code",
   "execution_count": 151,
   "metadata": {},
   "outputs": [
    {
     "data": {
      "text/plain": [
       "dict_keys(['k'])"
      ]
     },
     "execution_count": 151,
     "metadata": {},
     "output_type": "execute_result"
    }
   ],
   "source": [
    "KNN._Config.model_fields.keys()"
   ]
  },
  {
   "cell_type": "code",
   "execution_count": 159,
   "metadata": {},
   "outputs": [
    {
     "data": {
      "text/plain": [
       "<matplotlib.collections.PathCollection at 0x7d612c413a90>"
      ]
     },
     "execution_count": 159,
     "metadata": {},
     "output_type": "execute_result"
    },
    {
     "data": {
      "image/png": "[encoded data removed]",
      "text/plain": [
       "<Figure size 640x480 with 1 Axes>"
      ]
     },
     "metadata": {},
     "output_type": "display_data"
    }
   ],
   "source": [
    "from matplotlib import pyplot as plt\n",
    "\n",
    "x = iris.data\n",
    "y = iris.target\n",
    "plt.scatter(x[:, 0], x[:, 1], c=y)\n",
    "\n",
    "y_hat = [knn.predict_proba(Instance(x, 0, schema)) for x in x]\n",
    "y_hat = np.array(y_hat)\n",
    "\n",
    "plt.scatter(x[:, 0], x[:, 1], c=np.argmax(y_hat, axis=1), marker='x')\n",
    "\n"
   ]
  },
  {
   "cell_type": "code",
   "execution_count": null,
   "metadata": {},
   "outputs": [
    {
     "data": {
      "text/plain": [
       "Derived(configurable='sasd')"
      ]
     },
     "execution_count": 74,
     "metadata": {},
     "output_type": "execute_result"
    }
   ],
   "source": [
    "from pydantic import BaseModel\n",
    "\n",
    "\n",
    "class Base():\n",
    "    _internal: int = 0\n",
    "\n",
    "\n",
    "class Derived(Base, BaseModel):\n",
    "    configurable: int = 0\n",
    "\n",
    "\n",
    "derived = Derived()\n",
    "derived.configurable = \"sasd\"\n",
    "derived"
   ]
  }
 ],
 "metadata": {
  "kernelspec": {
   "display_name": "capymoa",
   "language": "python",
   "name": "python3"
  },
  "language_info": {
   "codemirror_mode": {
    "name": "ipython",
    "version": 3
   },
   "file_extension": ".py",
   "mimetype": "text/x-python",
   "name": "python",
   "nbconvert_exporter": "python",
   "pygments_lexer": "ipython3",
   "version": "3.9.19"
  }
 },
 "nbformat": 4,
 "nbformat_minor": 2
}
